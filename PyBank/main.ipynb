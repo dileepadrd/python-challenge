# -----------------------------------------------------------
# PyBank
#
#  This programm calculate the following values
#   1. The total number of months included in the dataset
#   2. The net total amount of Profit/Losses over the entire period
#   3. The average of the changes in Profit/Losses over the entire period
#   4. The greatest increase in profits (date and amount) over the entire period
#   5. The greatest decrease in losses (date and amount) over the entire period
#
# (C) 2022 Dileep Dharmasiri, Toronto, Canada
# email dileepadrd@gmail.com
# -----------------------------------------------------------

import sys
import os.path
import csv


def is_valid_file(file_name):
    # is_valid_file check whether the given file is valid or not
    # @param file_name = the file name to be tested
    return os.path.exists(file_name)


def process_file(file_name):
    # process_file function open the data file and iterate through all line
    # and do the calculations

    months = 0
    total = 0
    max_profit = 0
    max_profit_month = ""
    min_profit = 0
    min_profit_month = ""

    with open(file_name) as file:
        reader = csv.reader(file, delimiter=',')
        header = next(reader)
        print(f"header = {header}")
        month_index = 0
        profit_index = 1
        for row in reader:
            print(f"row = {row}")
            profit = int(row[profit_index])
            month = row[month_index]

            months += 1
            total += profit

            if profit > max_profit:
                max_profit = profit
                max_profit_month = month
            elif profit < min_profit:
                min_profit = profit
                min_profit_month = month

    average = round(total / months, 2)

    # writing the output into the file
    export_output(months, total, average, max_profit, max_profit_month,
                  min_profit, min_profit_month)


def export_output(months, total, average, max_profit, max_profit_month,
                  min_profit, min_profit_month):
    # write_output function write the output into the ./out.txt file
    # if there is any errors occurred during the file writting process, there would be an error printed and return
    # This function not only write the output into the file but it also prints the results.

    out = "Financial Analysis\n"
    out += "----------------------------\n"
    out += "Total Months: " + str(months) + "\n"
    out += "Total: $" + str(total) + "\n"
    out += "Average  Change: $" + str(average) + "\n"
    out += "Greatest Increase in Profits: " + max_profit_month
    out += "($" + str(max_profit) + ")\n"
    out += "Greatest Decrease in Profits: " + min_profit_month
    out += "($" + str(min_profit) + ")\n"

    print(out)

    file = open("./out.txt", "a")
    file.write(out)
    file.close()


def main():
    # This is the main function of the programm
    # This function is called as the fist step

    if len(sys.argv) == 1:
        print("Please enter the data file name as the fist argument")
        return

    file_name = sys.argv[1]

    if not is_valid_file(file_name):
        print(f"unable to find file - {file_name}")
        return

    process_file(file_name)


# calling the main function
main()