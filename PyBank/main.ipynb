# -----------------------------------------------------------
# PyBank 
# 
#  This programm calculate the following values
#   1. The total number of months included in the dataset
#   2. The net total amount of Profit/Losses over the entire period
#   3. The average of the changes in Profit/Losses over the entire period
#   4. The greatest increase in profits (date and amount) over the entire period
#   5. The greatest decrease in losses (date and amount) over the entire period
#
# (C) 2022 Dileep Dharmasiri, Toronto, Canada 
# email dileepadrd@gmail.com 
# -----------------------------------------------------------

import sys
import os.path


# is_valid_file function check whether the file given by the parameter is valid or not
def is_valid_file(file_name):
    # is_valid_file check whether the given file is valid or not 
    # @param file_name = the file name to be tested
    return os.path.exists(file_name)


def main():
    if len(sys.argv) == 1:
        print("Please enter the data file name as the fist argument")
        return

    file_name = sys.argv[1]

    if not is_valid_file(file_name):
        print(f"unable to find file - {file_name}")
        return


# calling the main function
main()