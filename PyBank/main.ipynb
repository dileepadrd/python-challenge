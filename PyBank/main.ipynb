# -----------------------------------------------------------
# PyBank
#
#  This programm calculate the following values
#   1. The total number of months included in the dataset
#   2. The net total amount of Profit/Losses over the entire period
#   3. The average of the changes in Profit/Losses over the entire period
#   4. The greatest increase in profits (date and amount) over the entire period
#   5. The greatest decrease in losses (date and amount) over the entire period
#
# (C) 2022 Dileep Dharmasiri, Toronto, Canada
# email dileepadrd@gmail.com
# -----------------------------------------------------------

import sys
import os.path
import csv

def is_valid_file(file_name):
    # is_valid_file check whether the given file is valid or not
    # @param file_name = the file name to be tested
    return os.path.exists(file_name)

def process_file(file_name):
    # process_file function open the data file and iterate through all line
    # and do the calculations
    with open(file_name) as file:
        reader = csv.reader(file, delimiter=',')
        header = next(reader)
        print(f"header = {header}")
        for row in reader:
            print(f"row = {row}")


def main():
    if len(sys.argv) == 1:
        print("Please enter the data file name as the fist argument")
        return

    file_name = sys.argv[1]

    if not is_valid_file(file_name):
        print(f"unable to find file - {file_name}")
        return

    process_file(file_name)


# calling the main function
main()